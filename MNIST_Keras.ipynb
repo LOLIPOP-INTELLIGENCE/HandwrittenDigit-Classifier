{
  "nbformat": 4,
  "nbformat_minor": 0,
  "metadata": {
    "colab": {
      "name": "MNIST-Keras.ipynb",
      "provenance": [],
      "collapsed_sections": []
    },
    "kernelspec": {
      "name": "python3",
      "display_name": "Python 3"
    },
    "accelerator": "GPU"
  },
  "cells": [
    {
      "cell_type": "code",
      "metadata": {
        "id": "CVyDW7HHyP4T"
      },
      "source": [
        "import keras\n",
        "from keras.datasets import mnist\n",
        "from keras.models import Sequential\n",
        "from keras.layers import Dense, Dropout, Flatten\n",
        "from keras.layers import Conv2D, MaxPooling2D\n",
        "import numpy as np\n",
        "from keras.utils.np_utils import to_categorical\n"
      ],
      "execution_count": null,
      "outputs": []
    },
    {
      "cell_type": "code",
      "metadata": {
        "id": "KRSWrHxwq9yc",
        "outputId": "5d3f626f-0533-449b-c198-7862e211761d",
        "colab": {
          "base_uri": "https://localhost:8080/",
          "height": 34
        }
      },
      "source": [
        "keras.__version__"
      ],
      "execution_count": null,
      "outputs": [
        {
          "output_type": "execute_result",
          "data": {
            "text/plain": [
              "'2.1.6'"
            ]
          },
          "metadata": {
            "tags": []
          },
          "execution_count": 2
        }
      ]
    },
    {
      "cell_type": "code",
      "metadata": {
        "id": "1AFsarTwC55N"
      },
      "source": [
        ""
      ],
      "execution_count": null,
      "outputs": []
    },
    {
      "cell_type": "code",
      "metadata": {
        "id": "3L6mRumSyt5g",
        "colab": {
          "base_uri": "https://localhost:8080/",
          "height": 51
        },
        "outputId": "2f7bef0b-c0e6-4310-f16f-aa49a88ed206"
      },
      "source": [
        "(X_train, y_train), (X_test, y_test) = mnist.load_data()"
      ],
      "execution_count": null,
      "outputs": [
        {
          "output_type": "stream",
          "text": [
            "Downloading data from https://s3.amazonaws.com/img-datasets/mnist.npz\n",
            "11493376/11490434 [==============================] - 0s 0us/step\n"
          ],
          "name": "stdout"
        }
      ]
    },
    {
      "cell_type": "code",
      "metadata": {
        "id": "taoj1p0Hy0Y_"
      },
      "source": [
        "X_train = X_train.reshape(60000, 28,28,1)\n",
        "X_test = X_test.reshape(10000, 28,28,1)\n",
        "X_train = X_train.astype('float32')\n",
        "X_test = X_test.astype('float32')"
      ],
      "execution_count": null,
      "outputs": []
    },
    {
      "cell_type": "code",
      "metadata": {
        "id": "yW3UdVsdy6e4"
      },
      "source": [
        "X_train /= 255\n",
        "X_test /= 255"
      ],
      "execution_count": null,
      "outputs": []
    },
    {
      "cell_type": "code",
      "metadata": {
        "id": "vbowHSb89pHU"
      },
      "source": [
        ""
      ],
      "execution_count": null,
      "outputs": []
    },
    {
      "cell_type": "code",
      "metadata": {
        "id": "-SAnCfd2y8eB"
      },
      "source": [
        "n_classes = 10\n",
        "Y_train = to_categorical(y_train, n_classes)\n",
        "Y_test = to_categorical(y_test, n_classes)\n"
      ],
      "execution_count": null,
      "outputs": []
    },
    {
      "cell_type": "code",
      "metadata": {
        "id": "6FABerK0IDR9"
      },
      "source": [
        ""
      ],
      "execution_count": null,
      "outputs": []
    },
    {
      "cell_type": "code",
      "metadata": {
        "id": "zWy2hwEDy9_i",
        "colab": {
          "base_uri": "https://localhost:8080/",
          "height": 159
        },
        "outputId": "bbec1f41-da7d-45e5-ba68-88311bc71207"
      },
      "source": [
        "model = Sequential()\n",
        "model.add(Conv2D(32, kernel_size=(3, 3),\n",
        "                 activation='relu',\n",
        "                 input_shape=(28,28,1)))\n",
        "model.add(Conv2D(64, (3, 3), activation='relu'))\n",
        "model.add(MaxPooling2D(pool_size=(2, 2)))\n",
        "model.add(Dropout(0.25))\n",
        "model.add(Flatten())\n",
        "model.add(Dense(128, activation='relu'))\n",
        "model.add(Dropout(0.5))\n",
        "model.add(Dense(n_classes, activation='softmax'))"
      ],
      "execution_count": null,
      "outputs": [
        {
          "output_type": "stream",
          "text": [
            "WARNING:tensorflow:From /usr/local/lib/python3.6/dist-packages/tensorflow/python/framework/op_def_library.py:263: colocate_with (from tensorflow.python.framework.ops) is deprecated and will be removed in a future version.\n",
            "Instructions for updating:\n",
            "Colocations handled automatically by placer.\n",
            "WARNING:tensorflow:From /usr/local/lib/python3.6/dist-packages/keras/backend/tensorflow_backend.py:3144: calling dropout (from tensorflow.python.ops.nn_ops) with keep_prob is deprecated and will be removed in a future version.\n",
            "Instructions for updating:\n",
            "Please use `rate` instead of `keep_prob`. Rate should be set to `rate = 1 - keep_prob`.\n"
          ],
          "name": "stdout"
        }
      ]
    },
    {
      "cell_type": "code",
      "metadata": {
        "id": "BgevVTnZzgxU"
      },
      "source": [
        "model.compile(loss='categorical_crossentropy', metrics=['accuracy'], optimizer='adam')"
      ],
      "execution_count": null,
      "outputs": []
    },
    {
      "cell_type": "code",
      "metadata": {
        "id": "KKd9SK-UzmX_",
        "outputId": "f7b3be6e-d2b8-426d-e094-231d8f8981fb",
        "colab": {
          "base_uri": "https://localhost:8080/",
          "height": 442
        }
      },
      "source": [
        "model.fit(X_train, Y_train,batch_size=128, epochs=10,verbose=1,validation_data=(X_test, Y_test))"
      ],
      "execution_count": null,
      "outputs": [
        {
          "output_type": "stream",
          "text": [
            "WARNING:tensorflow:From /usr/local/lib/python3.6/dist-packages/tensorflow/python/ops/math_ops.py:3066: to_int32 (from tensorflow.python.ops.math_ops) is deprecated and will be removed in a future version.\n",
            "Instructions for updating:\n",
            "Use tf.cast instead.\n",
            "Train on 60000 samples, validate on 10000 samples\n",
            "Epoch 1/10\n",
            "60000/60000 [==============================] - 10s 173us/step - loss: 0.2413 - acc: 0.9269 - val_loss: 0.0527 - val_acc: 0.9834\n",
            "Epoch 2/10\n",
            "60000/60000 [==============================] - 5s 76us/step - loss: 0.0886 - acc: 0.9740 - val_loss: 0.0382 - val_acc: 0.9871\n",
            "Epoch 3/10\n",
            "60000/60000 [==============================] - 4s 75us/step - loss: 0.0647 - acc: 0.9807 - val_loss: 0.0345 - val_acc: 0.9887\n",
            "Epoch 4/10\n",
            "60000/60000 [==============================] - 5s 76us/step - loss: 0.0562 - acc: 0.9831 - val_loss: 0.0308 - val_acc: 0.9906\n",
            "Epoch 5/10\n",
            "60000/60000 [==============================] - 5s 75us/step - loss: 0.0452 - acc: 0.9861 - val_loss: 0.0303 - val_acc: 0.9904\n",
            "Epoch 6/10\n",
            "60000/60000 [==============================] - 5s 76us/step - loss: 0.0416 - acc: 0.9871 - val_loss: 0.0295 - val_acc: 0.9912\n",
            "Epoch 7/10\n",
            "60000/60000 [==============================] - 5s 76us/step - loss: 0.0374 - acc: 0.9881 - val_loss: 0.0304 - val_acc: 0.9909\n",
            "Epoch 8/10\n",
            "60000/60000 [==============================] - 5s 75us/step - loss: 0.0324 - acc: 0.9898 - val_loss: 0.0281 - val_acc: 0.9908\n",
            "Epoch 9/10\n",
            "60000/60000 [==============================] - 5s 75us/step - loss: 0.0303 - acc: 0.9902 - val_loss: 0.0307 - val_acc: 0.9909\n",
            "Epoch 10/10\n",
            "60000/60000 [==============================] - 5s 75us/step - loss: 0.0272 - acc: 0.9913 - val_loss: 0.0328 - val_acc: 0.9908\n"
          ],
          "name": "stdout"
        },
        {
          "output_type": "execute_result",
          "data": {
            "text/plain": [
              "<keras.callbacks.History at 0x7f5cfe776668>"
            ]
          },
          "metadata": {
            "tags": []
          },
          "execution_count": 12
        }
      ]
    },
    {
      "cell_type": "code",
      "metadata": {
        "id": "EdCPgDTSzs3b",
        "outputId": "50141a5f-508e-42de-db9e-54e7cff5020b",
        "colab": {
          "base_uri": "https://localhost:8080/",
          "height": 199
        }
      },
      "source": [
        "!pip install -U coremltools"
      ],
      "execution_count": null,
      "outputs": [
        {
          "output_type": "stream",
          "text": [
            "Collecting coremltools\n",
            "\u001b[?25l  Downloading https://files.pythonhosted.org/packages/b9/9d/7ec5a2480c6afce4fcb99de1650b7abfd1457b2ef1de5ce39bf7bee8a8ae/coremltools-2.1.0-cp36-none-manylinux1_x86_64.whl (2.7MB)\n",
            "\u001b[K     |████████████████████████████████| 2.7MB 3.4MB/s \n",
            "\u001b[?25hRequirement already satisfied, skipping upgrade: protobuf>=3.1.0 in /usr/local/lib/python3.6/dist-packages (from coremltools) (3.7.1)\n",
            "Requirement already satisfied, skipping upgrade: numpy>=1.10.0 in /usr/local/lib/python3.6/dist-packages (from coremltools) (1.16.4)\n",
            "Requirement already satisfied, skipping upgrade: six>=1.10.0 in /usr/local/lib/python3.6/dist-packages (from coremltools) (1.12.0)\n",
            "Requirement already satisfied, skipping upgrade: setuptools in /usr/local/lib/python3.6/dist-packages (from protobuf>=3.1.0->coremltools) (41.0.1)\n",
            "Installing collected packages: coremltools\n",
            "Successfully installed coremltools-2.1.0\n"
          ],
          "name": "stdout"
        }
      ]
    },
    {
      "cell_type": "code",
      "metadata": {
        "id": "uEicse1i0xVT",
        "colab": {
          "base_uri": "https://localhost:8080/",
          "height": 34
        },
        "outputId": "72a7df44-59f6-42a4-de4a-736d8c0df4a5"
      },
      "source": [
        "import coremltools"
      ],
      "execution_count": null,
      "outputs": [
        {
          "output_type": "stream",
          "text": [
            "WARNING:root:TensorFlow version 1.13.1 detected. Last version known to be fully compatible is 1.12.0 .\n"
          ],
          "name": "stderr"
        }
      ]
    },
    {
      "cell_type": "code",
      "metadata": {
        "id": "JLgnt5x-3P3i"
      },
      "source": [
        "output_labels=['0','1','2','3','4','5','6','7','8','9']\n",
        "scale=1/255"
      ],
      "execution_count": null,
      "outputs": []
    },
    {
      "cell_type": "code",
      "metadata": {
        "id": "1k_katK22eLk",
        "outputId": "87e6e479-376b-4513-91bc-c432259bfc7c",
        "colab": {
          "base_uri": "https://localhost:8080/",
          "height": 204
        }
      },
      "source": [
        "coreml_model=coremltools.converters.keras.convert(model,input_names='image',image_input_names='image',output_names='output',class_labels=output_labels,image_scale=scale)"
      ],
      "execution_count": null,
      "outputs": [
        {
          "output_type": "stream",
          "text": [
            "0 : conv2d_1_input, <keras.engine.topology.InputLayer object at 0x7f5cff127940>\n",
            "1 : conv2d_1, <keras.layers.convolutional.Conv2D object at 0x7f5cff127710>\n",
            "2 : conv2d_1__activation__, <keras.layers.core.Activation object at 0x7f5c9a8fb208>\n",
            "3 : conv2d_2, <keras.layers.convolutional.Conv2D object at 0x7f5cff197f60>\n",
            "4 : conv2d_2__activation__, <keras.layers.core.Activation object at 0x7f5c9a8fb240>\n",
            "5 : max_pooling2d_1, <keras.layers.pooling.MaxPooling2D object at 0x7f5cfe8a8d68>\n",
            "6 : flatten_1, <keras.layers.core.Flatten object at 0x7f5cfe8c8278>\n",
            "7 : dense_1, <keras.layers.core.Dense object at 0x7f5cff127c18>\n",
            "8 : dense_1__activation__, <keras.layers.core.Activation object at 0x7f5c9a8fb278>\n",
            "9 : dense_2, <keras.layers.core.Dense object at 0x7f5cfe83cef0>\n",
            "10 : dense_2__activation__, <keras.layers.core.Activation object at 0x7f5c9a8fb2b0>\n"
          ],
          "name": "stdout"
        }
      ]
    },
    {
      "cell_type": "code",
      "metadata": {
        "id": "wi6_-TPX1Fg_"
      },
      "source": [
        "coreml_model.save('MNIST_final_lol_lol_final.mlmodel')"
      ],
      "execution_count": null,
      "outputs": []
    },
    {
      "cell_type": "code",
      "metadata": {
        "id": "D5vNzElC1cFS"
      },
      "source": [
        "from google.colab import files\n",
        "files.download('MNIST_final_lol_lol_final.mlmodel')"
      ],
      "execution_count": null,
      "outputs": []
    },
    {
      "cell_type": "code",
      "metadata": {
        "id": "AB0Lw-3a1we0"
      },
      "source": [
        ""
      ],
      "execution_count": null,
      "outputs": []
    }
  ]
}